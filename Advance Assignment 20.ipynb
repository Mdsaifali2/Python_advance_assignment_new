{
 "cells": [
  {
   "cell_type": "markdown",
   "metadata": {},
   "source": [
    "# 1. Compare and contrast the float and Decimal classes&#39; benefits and drawbacks.\n",
    "\n"
   ]
  },
  {
   "cell_type": "code",
   "execution_count": 3,
   "metadata": {},
   "outputs": [
    {
     "name": "stdout",
     "output_type": "stream",
     "text": [
      "<class 'float'>\n",
      "0.44999999999999996\n",
      "(1, 2)\n",
      "(3152519739159347, 9007199254740992)\n",
      "Context(prec=5, rounding=ROUND_HALF_EVEN, Emin=-999999, Emax=999999, capitals=1, clamp=0, flags=[Inexact, Rounded], traps=[InvalidOperation, DivisionByZero, Overflow])\n",
      "d= 0.018182\n",
      "e= 0.018182\n"
     ]
    },
    {
     "data": {
      "text/plain": [
       "'The precision can in this way be adjusted to the exact problem at hand and one can operate\\n      with floating-point objects that exhibit different degrees of accuracy.'"
      ]
     },
     "execution_count": 3,
     "metadata": {},
     "output_type": "execute_result"
    }
   ],
   "source": [
    "# Ans : Example of float value\n",
    "a = 0.35\n",
    "print(type(a))\n",
    "\"\"\"      Float objects like this one are always represented internally up to a certain degree of accuracy only.\n",
    "      This becomes evident when adding 0.1 to a:\"\"\"\n",
    "print(a+0.1)\n",
    "\"\"\"      The reason for this is that floats are internally represented in binary format;\n",
    "      that is, a decimal number 0 < n < 1 is represented by a series of the form . \n",
    "      For certain floating-point numbers the binary representation might involve a large number \n",
    "      of elements or might even be an infinite series. However, given a fixed number of bits used \n",
    "      to represent such a number—i.e., a fixed number of terms in the representation \n",
    "      series—inaccuracies are the consequence. Other numbers can be represented perfectly \n",
    "      and are therefore stored exactly even with a finite number of bits available. \n",
    "      Example is  :\"\"\"\n",
    "b=0.5 \n",
    "print(b.as_integer_ratio()) #i.e. 0.5 is exactly represented as 1/2\n",
    "#       \"\"\"incase of b=0.35\"\"\"\n",
    "b=0.35\n",
    "print(b.as_integer_ratio()) # Here teh b=0.35 is not exact\n",
    "\"\"\"\"      The precision is dependent on the number of bits used to represent the number. \n",
    "      Hence some error can creep in. It translates 15 digits accuracy for float.\n",
    "      For example, the issue can be of importance when summing over a large set of numbers. \n",
    "      In such a situation, a certain kind and/or magnitude of representation error might, \n",
    "      in aggregate, lead to significant deviations from a benchmark value.\n",
    "      In order to overcome this we use the decimal module.\n",
    "      The module decimal provides an arbitrary-precision object for floating-point numbers \n",
    "      and several options to address precision issues when working with such numbers:\"\"\"\n",
    "import decimal\n",
    "from decimal import Decimal\n",
    "print(decimal.getcontext())\n",
    "d = Decimal(1) / Decimal (55)\n",
    "print(\"d=\",d)\n",
    "decimal.getcontext().prec = 5  # lower precision \n",
    "e=Decimal(1)/Decimal(55)\n",
    "print(\"e=\",e)\n",
    "# The precision can in this way be adjusted to the exact problem at hand and one can operate\n",
    "#       with floating-point objects that exhibit different degrees of accuracy."
   ]
  },
  {
   "cell_type": "markdown",
   "metadata": {},
   "source": [
    "# 2. Decimal(&#39;1.200&#39;) and Decimal(&#39;1.2&#39;) are two objects to consider. In what sense are these the same object? Are these just two ways of representing the exact same value, or do they correspond to different internal states?\n",
    "\n"
   ]
  },
  {
   "cell_type": "code",
   "execution_count": 5,
   "metadata": {},
   "outputs": [
    {
     "name": "stdout",
     "output_type": "stream",
     "text": [
      "False\n"
     ]
    }
   ],
   "source": [
    "from decimal import Decimal\n",
    "\n",
    "a = Decimal('1.200')\n",
    "b = Decimal('1.2')\n",
    "\n",
    "print(a is b)"
   ]
  },
  {
   "cell_type": "raw",
   "metadata": {},
   "source": [
    "Decimal('1.200') and Decimal('1.2') represent the same mathematical value, but they are distinct objects in memory due to the way Python's Decimal class handles precision and trailing zeros.\n",
    "When you create a Decimal object using the string constructor, it creates a decimal number with the exact value represented in the string. So both Decimal('1.200') and Decimal('1.2') will be interpreted as the number 1.2, and they will behave identically in mathematical operations."
   ]
  },
  {
   "cell_type": "markdown",
   "metadata": {},
   "source": [
    "# 3. What happens if the equality of Decimal(&#39;1.200&#39;) and Decimal(&#39;1.2&#39;) is checked?\n",
    "\n"
   ]
  },
  {
   "cell_type": "code",
   "execution_count": 6,
   "metadata": {},
   "outputs": [
    {
     "name": "stdout",
     "output_type": "stream",
     "text": [
      "True\n"
     ]
    }
   ],
   "source": [
    "from decimal import Decimal\n",
    "\n",
    "a = Decimal('1.200')\n",
    "b = Decimal('1.2')\n",
    "result = a == b\n",
    "print(result)"
   ]
  },
  {
   "cell_type": "raw",
   "metadata": {},
   "source": [
    "When you check the equality of Decimal('1.200') and Decimal('1.2') using the equality operator (==), the result will be True. This is because the Decimal class is designed to compare the mathematical values represented by the objects, not their internal representations, including trailing zeros."
   ]
  },
  {
   "cell_type": "markdown",
   "metadata": {},
   "source": [
    "# 4. Why is it preferable to start a Decimal object with a string rather than a floating-point value?\n",
    "\n"
   ]
  },
  {
   "cell_type": "raw",
   "metadata": {},
   "source": [
    "Starting a Decimal object with a string representation of a number rather than a floating-point value helps to avoid precision loss that can occur when converting from floating-point to decimal."
   ]
  },
  {
   "cell_type": "code",
   "execution_count": 9,
   "metadata": {},
   "outputs": [
    {
     "name": "stdout",
     "output_type": "stream",
     "text": [
      "1.2000\n"
     ]
    }
   ],
   "source": [
    "# This may not be exactly 1.2 due to floating-point precision error\n",
    "\n",
    "from decimal import Decimal\n",
    "# Using a floating-point value\n",
    "a = Decimal(1.1)\n",
    "b = Decimal(0.1)\n",
    "result = a + b\n",
    "print(result)  "
   ]
  },
  {
   "cell_type": "code",
   "execution_count": 11,
   "metadata": {},
   "outputs": [
    {
     "name": "stdout",
     "output_type": "stream",
     "text": [
      "1.2\n"
     ]
    }
   ],
   "source": [
    "# This will be exactly 1.2\n",
    "\n",
    "\n",
    "from decimal import Decimal\n",
    "# Using a string representation\n",
    "a = Decimal('1.1')\n",
    "b = Decimal('0.1')\n",
    "result = a + b\n",
    "print(result)"
   ]
  },
  {
   "cell_type": "markdown",
   "metadata": {},
   "source": [
    "# 5. In an arithmetic phrase, how simple is it to combine Decimal objects with integers?\n",
    "\n"
   ]
  },
  {
   "cell_type": "code",
   "execution_count": 12,
   "metadata": {},
   "outputs": [
    {
     "name": "stdout",
     "output_type": "stream",
     "text": [
      "<class 'int'>\n",
      "2\n",
      "4\n"
     ]
    }
   ],
   "source": [
    "import decimal\n",
    "from decimal import Decimal\n",
    "val=2\n",
    "print(type(val))\n",
    "a=Decimal(val)\n",
    "print(a)\n",
    "b=a*Decimal(val)\n",
    "print(b)"
   ]
  },
  {
   "cell_type": "markdown",
   "metadata": {},
   "source": [
    "# 6. Can Decimal objects and floating-point values be combined easily?\n",
    "\n"
   ]
  },
  {
   "cell_type": "raw",
   "metadata": {},
   "source": [
    "Arithmetic operfations like Adding,subtracting or multiplying a Decimal object by a floating-point value is generates an error. To do these operations, the floating point has to be converted to a Decimal object—for example, converting from a floating-point value and then rounding. Else, arithmetic operations between the two types cause runtime errors."
   ]
  },
  {
   "cell_type": "code",
   "execution_count": 16,
   "metadata": {},
   "outputs": [
    {
     "name": "stdout",
     "output_type": "stream",
     "text": [
      "Muliplication: 0.060000\n"
     ]
    },
    {
     "ename": "TypeError",
     "evalue": "unsupported operand type(s) for *: 'decimal.Decimal' and 'float'",
     "output_type": "error",
     "traceback": [
      "\u001b[1;31m---------------------------------------------------------------------------\u001b[0m",
      "\u001b[1;31mTypeError\u001b[0m                                 Traceback (most recent call last)",
      "Cell \u001b[1;32mIn[16], line 6\u001b[0m\n\u001b[0;32m      4\u001b[0m b\u001b[38;5;241m=\u001b[39mDecimal(val)\n\u001b[0;32m      5\u001b[0m \u001b[38;5;28mprint\u001b[39m(\u001b[38;5;124m\"\u001b[39m\u001b[38;5;124mMuliplication:\u001b[39m\u001b[38;5;124m\"\u001b[39m,Decimal(\u001b[38;5;124m'\u001b[39m\u001b[38;5;124m0.2\u001b[39m\u001b[38;5;124m'\u001b[39m)\u001b[38;5;241m*\u001b[39mb ) \u001b[38;5;66;03m# Multiplying a decimal object with float value converted to Decimal\u001b[39;00m\n\u001b[1;32m----> 6\u001b[0m \u001b[38;5;28mprint\u001b[39m(\u001b[43mDecimal\u001b[49m\u001b[43m(\u001b[49m\u001b[38;5;124;43m'\u001b[39;49m\u001b[38;5;124;43m0.2\u001b[39;49m\u001b[38;5;124;43m'\u001b[39;49m\u001b[43m)\u001b[49m\u001b[38;5;241;43m*\u001b[39;49m\u001b[43mval\u001b[49m)\u001b[38;5;66;03m# Error when Decimal obeject is multiplied by a float\u001b[39;00m\n",
      "\u001b[1;31mTypeError\u001b[0m: unsupported operand type(s) for *: 'decimal.Decimal' and 'float'"
     ]
    }
   ],
   "source": [
    "import decimal\n",
    "from decimal import Decimal\n",
    "val=0.3\n",
    "b=Decimal(val)\n",
    "print(\"Muliplication:\",Decimal('0.2')*b ) # Multiplying a decimal object with float value converted to Decimal\n",
    "print(Decimal('0.2')*val)# Error when Decimal obeject is multiplied by a float"
   ]
  },
  {
   "cell_type": "markdown",
   "metadata": {},
   "source": [
    "# 7. Using the Fraction class but not the Decimal class, give an example of a quantity that can be expressed with absolute precision.\n",
    "\n"
   ]
  },
  {
   "cell_type": "code",
   "execution_count": 23,
   "metadata": {},
   "outputs": [
    {
     "name": "stdout",
     "output_type": "stream",
     "text": [
      "1/4\n"
     ]
    }
   ],
   "source": [
    "from fractions import Fraction\n",
    "val=0.25\n",
    "fr=Fraction(val)\n",
    "print(fr)"
   ]
  },
  {
   "cell_type": "markdown",
   "metadata": {},
   "source": [
    "# 8. Describe a quantity that can be accurately expressed by the Decimal or Fraction classes but not by a floating-point value.\n",
    "\n"
   ]
  },
  {
   "cell_type": "code",
   "execution_count": 24,
   "metadata": {},
   "outputs": [
    {
     "name": "stdout",
     "output_type": "stream",
     "text": [
      "decimal= 0.01\n",
      "fraction= 1/100\n",
      "float value= 0.010000000000000002\n"
     ]
    }
   ],
   "source": [
    "d=Decimal('0.1') * Decimal('0.1')\n",
    "print(\"decimal=\",d)\n",
    "frac=Fraction('1/10') * Fraction('1/10')\n",
    "print(\"fraction=\",frac)\n",
    "fl=0.1*0.1\n",
    "print(\"float value=\",fl)"
   ]
  },
  {
   "cell_type": "markdown",
   "metadata": {},
   "source": [
    "# 9. Consider the following two fraction objects: Fraction(1, 2) and Fraction(1, 2). (5, 10). Is the internal state of these two objects the same? Why do you think that is?\n",
    "\n"
   ]
  },
  {
   "cell_type": "code",
   "execution_count": 25,
   "metadata": {},
   "outputs": [
    {
     "name": "stdout",
     "output_type": "stream",
     "text": [
      "1/2\n",
      "1/2\n",
      "Fraction (1,2) and Fraction(5,10) are equal\n"
     ]
    }
   ],
   "source": [
    "from fractions import Fraction\n",
    "frac1=Fraction(1, 2)\n",
    "print(frac1)\n",
    "frac2=Fraction(5, 10)\n",
    "print(frac2)\n",
    "if (frac1 == frac2 ):\n",
    "    print('Fraction (1,2) and Fraction(5,10) are equal')\n",
    "#    The internal state of both are same as Fraction(5,10) is reduced to simplest form. \n",
    "#    Hence 1/2 is printed in both the cases."
   ]
  },
  {
   "cell_type": "markdown",
   "metadata": {},
   "source": [
    "# 10. How do the Fraction class and the integer type (int) relate to each other? Containment or inheritance?"
   ]
  },
  {
   "cell_type": "raw",
   "metadata": {},
   "source": [
    "Fraction class and integer type(int) are related in form of a container.\n",
    "It contains two ints, one the numerator and the other the denominator."
   ]
  },
  {
   "cell_type": "code",
   "execution_count": 26,
   "metadata": {},
   "outputs": [
    {
     "name": "stdout",
     "output_type": "stream",
     "text": [
      "numerator is 1 <class 'int'>\n",
      "denominator is 2 <class 'int'>\n"
     ]
    }
   ],
   "source": [
    "from fractions import Fraction\n",
    "frac = Fraction(1,2)\n",
    "print('numerator is', frac.numerator,type(frac.numerator))\n",
    "print('denominator is', frac.denominator,type(frac.numerator) )"
   ]
  },
  {
   "cell_type": "code",
   "execution_count": null,
   "metadata": {},
   "outputs": [],
   "source": []
  }
 ],
 "metadata": {
  "kernelspec": {
   "display_name": "Python 3 (ipykernel)",
   "language": "python",
   "name": "python3"
  },
  "language_info": {
   "codemirror_mode": {
    "name": "ipython",
    "version": 3
   },
   "file_extension": ".py",
   "mimetype": "text/x-python",
   "name": "python",
   "nbconvert_exporter": "python",
   "pygments_lexer": "ipython3",
   "version": "3.11.4"
  }
 },
 "nbformat": 4,
 "nbformat_minor": 2
}
